{
 "cells": [
  {
   "cell_type": "code",
   "execution_count": 2,
   "metadata": {},
   "outputs": [],
   "source": [
    "import pandas as pd\n",
    "import numpy as np\n",
    "from sklearn.ensemble import RandomForestClassifier\n",
    "from sklearn.model_selection import train_test_split\n",
    "from sklearn.preprocessing import StandardScaler, LabelEncoder\n",
    "from sklearn.metrics import accuracy_score\n",
    "import pickle"
   ]
  },
  {
   "cell_type": "code",
   "execution_count": 7,
   "metadata": {},
   "outputs": [
    {
     "name": "stderr",
     "output_type": "stream",
     "text": [
      "/tmp/ipykernel_2635014/220330452.py:1: DtypeWarning: Columns (9200,9201,9216,9217,9222,9223,9226,9227,9228,9229,9230,9231,9232,9233,9234,9235,9238,9239,9240,9241,9242,9243,9244,9245,9246,9247,9248,9249,9250,9251,9252,9253,9254,9255,9256,9257,9258,9259,9260,9261,9262,9263,9264,9265,9266,9267,9268,9269,9270,9271,9272,9273,9274,9275,9276,9277,9278,9279,9280,9281,9282,9283,9284,9285,9286,9287,9288,9289,9290,9291,9292,9293,9294,9295,9296,9297,9298,9299,9300,9301,9302,9303,9304,9305,9306,9307,9308,9309,9310,9311,9312,9313,9314,9315,9316,9317,9318,9319,9320,9321,9322,9323,9324,9325,9326,9327,9328,9329,9330,9331,9332,9333,9334,9335,9336,9337,9338,9339,9340,9341,9342,9343,9344,9345,9346,9347,9348,9349,9350,9351,9352,9353,9354,9355,9356,9357,9358,9359,9360,9361,9362,9363,9364,9365,9366,9367,9368,9369,9370,9371,9372,9373,9374,9375,9376,9377,9378,9379,9380,9381) have mixed types. Specify dtype option on import or set low_memory=False.\n",
      "  features_df = pd.read_csv('extracted_features_pca.csv')\n"
     ]
    }
   ],
   "source": [
    "features_df = pd.read_csv('extracted_features_pca.csv')"
   ]
  },
  {
   "cell_type": "code",
   "execution_count": 13,
   "metadata": {},
   "outputs": [
    {
     "name": "stdout",
     "output_type": "stream",
     "text": [
      "(12600, 9222)\n"
     ]
    }
   ],
   "source": [
    "\n",
    "# Separate features, labels, and filenames\n",
    "X = features_df.drop(columns=['label', 'filename']).select_dtypes(include=[np.number]).values\n",
    "print(X.shape)\n",
    "\n",
    "y = LabelEncoder().fit_transform(features_df['label'].values)\n",
    "file_names = features_df['filename'].values\n",
    "\n",
    "\n",
    "scaler = StandardScaler()\n",
    "X = scaler.fit_transform(X)"
   ]
  },
  {
   "cell_type": "code",
   "execution_count": 6,
   "metadata": {},
   "outputs": [
    {
     "name": "stdout",
     "output_type": "stream",
     "text": [
      "(12600, 9382)\n"
     ]
    }
   ],
   "source": [
    "print(X.shape)"
   ]
  },
  {
   "cell_type": "code",
   "execution_count": 14,
   "metadata": {},
   "outputs": [],
   "source": [
    "# Train-test split\n",
    "X_train, X_test, y_train, y_test = train_test_split(X, y, train_size=0.8, random_state=42)"
   ]
  },
  {
   "cell_type": "code",
   "execution_count": 15,
   "metadata": {},
   "outputs": [
    {
     "name": "stdout",
     "output_type": "stream",
     "text": [
      "Random Forest Model Accuracy: 0.4718\n"
     ]
    }
   ],
   "source": [
    "best_rf_params = {\n",
    "    \"n_estimators\": 1000,\n",
    "    \"min_samples_split\": 10,\n",
    "    \"max_features\":'sqrt',\n",
    "    \"max_depth\":30,\n",
    "    \"random_state\": 42,\n",
    "    \"n_jobs\": -1\n",
    "\n",
    "}\n",
    "\n",
    "rf = RandomForestClassifier(**best_rf_params)\n",
    "rf.fit(X_train, y_train)\n",
    "\n",
    "# Test the model\n",
    "y_pred = rf.predict(X_test)\n",
    "accuracy = accuracy_score(y_test, y_pred)\n",
    "print(f\"Random Forest Model Accuracy: {accuracy:.4f}\")"
   ]
  },
  {
   "cell_type": "markdown",
   "metadata": {},
   "source": [
    "edges shape: (50000,), orb_features shape: (4096,), hog_features shape: (3888,), lbp_features shape: (10,), color_histogram shape: (512,)"
   ]
  },
  {
   "cell_type": "code",
   "execution_count": 16,
   "metadata": {},
   "outputs": [
    {
     "name": "stdout",
     "output_type": "stream",
     "text": [
      "color_histogram    0.360866\n",
      "hog_features       0.326989\n",
      "orb_features       0.263037\n",
      "lbp_features       0.036908\n",
      "edges              0.012200\n",
      "dtype: float64\n"
     ]
    }
   ],
   "source": [
    "importances = rf.feature_importances_\n",
    "\n",
    "\n",
    "# Split importances back into the respective feature categories\n",
    "edges_importance = importances[:100]\n",
    "orb_importance = importances[100:100+4096]\n",
    "hog_importance = importances[100+4096:100+4096+3888]\n",
    "lbp_importance = importances[100+4096+3888:100+4096+3888+30]\n",
    "color_histogram_importance = importances[100+4096+3888+30:]\n",
    "\n",
    "# Sum the importances for each category\n",
    "category_importances = {\n",
    "    'edges': np.sum(edges_importance),\n",
    "    'orb_features': np.sum(orb_importance),\n",
    "    'hog_features': np.sum(hog_importance),\n",
    "    'lbp_features': np.sum(lbp_importance),\n",
    "    'color_histogram': np.sum(color_histogram_importance)\n",
    "}\n",
    "\n",
    "# Convert to pandas Series for easier viewing\n",
    "category_importances_series = pd.Series(category_importances)\n",
    "\n",
    "# Print the importances by category\n",
    "print(category_importances_series.sort_values(ascending=False))\n"
   ]
  },
  {
   "cell_type": "code",
   "execution_count": 17,
   "metadata": {},
   "outputs": [],
   "source": [
    "# Save the model to a file\n",
    "model_filename = 'trained_random_forest_model.pkl'\n",
    "with open(model_filename, 'wb') as file:\n",
    "    pickle.dump(rf, file)"
   ]
  },
  {
   "cell_type": "code",
   "execution_count": null,
   "metadata": {},
   "outputs": [],
   "source": []
  }
 ],
 "metadata": {
  "kernelspec": {
   "display_name": ".ml_env",
   "language": "python",
   "name": "python3"
  },
  "language_info": {
   "codemirror_mode": {
    "name": "ipython",
    "version": 3
   },
   "file_extension": ".py",
   "mimetype": "text/x-python",
   "name": "python",
   "nbconvert_exporter": "python",
   "pygments_lexer": "ipython3",
   "version": "3.10.13"
  }
 },
 "nbformat": 4,
 "nbformat_minor": 2
}
